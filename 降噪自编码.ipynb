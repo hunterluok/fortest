{
 "cells": [
  {
   "cell_type": "code",
   "execution_count": 1,
   "metadata": {},
   "outputs": [
    {
     "name": "stderr",
     "output_type": "stream",
     "text": [
      "/Users/luokui/anaconda3/lib/python3.6/importlib/_bootstrap.py:205: RuntimeWarning: compiletime version 3.5 of module 'tensorflow.python.framework.fast_tensor_util' does not match runtime version 3.6\n",
      "  return f(*args, **kwds)\n"
     ]
    },
    {
     "name": "stdout",
     "output_type": "stream",
     "text": [
      "Extracting /Users/luokui/mnist/data/train-images-idx3-ubyte.gz\n",
      "Extracting /Users/luokui/mnist/data/train-labels-idx1-ubyte.gz\n",
      "Extracting /Users/luokui/mnist/data/t10k-images-idx3-ubyte.gz\n",
      "Extracting /Users/luokui/mnist/data/t10k-labels-idx1-ubyte.gz\n"
     ]
    }
   ],
   "source": [
    "import tensorflow as tf\n",
    "#from tensorflow.examples.tutorials.mnist import input_data\n",
    "from tensorflow.examples.tutorials.mnist import input_data\n",
    "mnist = input_data.read_data_sets(\"/Users/luokui/mnist/data/\",one_hot=True)"
   ]
  },
  {
   "cell_type": "code",
   "execution_count": 2,
   "metadata": {
    "collapsed": true
   },
   "outputs": [],
   "source": [
    "import numpy as np\n",
    "import sklearn.preprocessing as prep\n"
   ]
  },
  {
   "cell_type": "code",
   "execution_count": 3,
   "metadata": {
    "collapsed": true
   },
   "outputs": [],
   "source": [
    "def xavier_init(fan_in,fan_out,constant):\n",
    "    low = -constant * tf.sqrt(6.0/(fan_in+fan_out))\n",
    "    high = constant ( tf.sqrt(6.0/(fan_in+fan_out)))\n",
    "    return tf.random_uniform((fan_in,fan_out),minval=low,maxval=high,dtype=tf.float32)"
   ]
  },
  {
   "cell_type": "code",
   "execution_count": 7,
   "metadata": {
    "collapsed": true
   },
   "outputs": [],
   "source": [
    "class AdditiveGaussianAutoencoder(object):\n",
    "    def _init_(self,n_input,n_hidden,transfer_function=tf.nn.softplus,optimizer=tf.train.AdamOptimizer(),scale=0.1):\n",
    "        self.n_input = n_input\n",
    "        self.n_hidden = n_hidden\n",
    "        self.transfer = transfer_function\n",
    "        self.scale = tf.placeholder(tf.float32)\n",
    "        self.training_scale = scale\n",
    "        network_weights = self._initialize_weights()\n",
    "        self.weights = network_weights\n",
    "    \n",
    "        self.x = tf.placeholder(tf.float32, [None,self.n_input])\n",
    "        self.hidden = self.transfer(tf.add(tf.matmul(self.x+scale*tf.random_normal((n_input,)),self.weights['w1']),\n",
    "                                                             self.weights['b1']))\n",
    "        self.reconstruction = tf.add(tf.matmul(self.hidden,self.weights['w2']),tf.weights['b2'])\n",
    "        self.loss =0.5*tf.reduce_mean(tf.square(tf.subtract(self.x,self.reconstruction)))\n",
    "        self.optimizer = optimizer.minimize(self.loss)\n",
    "        \n",
    "        self.init = tf.global_variables_initializer()\n",
    "        self.sess = tf.Session()\n",
    "        self.sess.run(self.init)\n",
    "        \n",
    "    def _initialize_weights(self):\n",
    "        all_weights = dict()\n",
    "        all_weights['w1'] = tf.Variable(xavier_init(self.in_put,self.n_hidder))\n",
    "        all_weights['b1'] = tf.Variable(tf.zeros([self.hidden],dtype=tf.float32))\n",
    "        all_weights['w2'] = tf.Variable(tf.zeros([self.hidden,self.n_input],dtype=tf.float32))\n",
    "        all_weights['b2'] = tf.Variable(tf.zeros([self.n_input],dtype=tf.float32))\n",
    "        return all_weights\n",
    "    \n",
    "    def partial_fit(self,x):\n",
    "        cost, opt = self.sess.run((self.cost,self.optimizer),feed_dict = {self.x:x,self.scale:self.training_scale})\n",
    "        return cost\n",
    "    \n",
    "    def calc_total_cost(self,x):\n",
    "        return self.sess.run(self.cost,feed_dict={self.x:x,self.scale:self.training_scale})\n",
    "    \n",
    "    def transform(self,x):\n",
    "        return self.sess.run(self.hidden,feed_dict={self.x:x,self.scale:self.training_scale})\n",
    "    \n",
    "    def generate(self,hidden):\n",
    "        if hidden is None:\n",
    "            hidden = np.random.normal(size=self.weights['b1'])\n",
    "        return self.sess.run(self.reconstruction,feed_dict={self.hidden:hidden})\n",
    "    \n",
    "    def reconstruct(self,x):\n",
    "        return self.sess.run(self.reconstruction,feed_dict={self.x:x,self.scale:self.training_scale})\n",
    "    \n",
    "    def getweights(self):\n",
    "        return self.sess.run(self.weights['w1'])\n",
    "    \n",
    "    def getbias(self):\n",
    "        return self.sess.run(self.weights['b1'])\n",
    "    "
   ]
  },
  {
   "cell_type": "code",
   "execution_count": 8,
   "metadata": {
    "collapsed": true
   },
   "outputs": [],
   "source": [
    "def standard_scale(x_train,x_test):\n",
    "    preprocessor = prep.StandardScaler().fit(x_train)\n",
    "    x_train = preprocessor.transform(x_train)\n",
    "    x_test = preprocessor.transform(x_test)\n",
    "    return x_train,x_test\n",
    "\n",
    "def get_random_block_from_data(data,batch_size):\n",
    "    start_index = np.random.randint(0,len(data)-batch_size) #在 0~len(data)-batch_size 之间任意选择一个数字\n",
    "    return data[start_index:(start_index + batch_size)] #选取之间的数字\n",
    "\n",
    "x_train,x_test = standard_scale(mnist.train.images,mnist.test.images)\n",
    "n_samples = int(mnist.train.num_examples)\n",
    "training_epochs = 20\n",
    "batch_size = 128\n",
    "display_step = 1\n"
   ]
  },
  {
   "cell_type": "code",
   "execution_count": 9,
   "metadata": {},
   "outputs": [
    {
     "ename": "TypeError",
     "evalue": "object() takes no parameters",
     "output_type": "error",
     "traceback": [
      "\u001b[0;31m---------------------------------------------------------------------------\u001b[0m",
      "\u001b[0;31mTypeError\u001b[0m                                 Traceback (most recent call last)",
      "\u001b[0;32m<ipython-input-9-5007750d5c01>\u001b[0m in \u001b[0;36m<module>\u001b[0;34m()\u001b[0m\n\u001b[0;32m----> 1\u001b[0;31m \u001b[0mautoencoder\u001b[0m \u001b[0;34m=\u001b[0m \u001b[0mAdditiveGaussianAutoencoder\u001b[0m\u001b[0;34m(\u001b[0m\u001b[0mn_input\u001b[0m \u001b[0;34m=\u001b[0m \u001b[0;36m784\u001b[0m\u001b[0;34m,\u001b[0m\u001b[0mn_hidden\u001b[0m\u001b[0;34m=\u001b[0m\u001b[0;36m200\u001b[0m\u001b[0;34m)\u001b[0m\u001b[0;34m\u001b[0m\u001b[0m\n\u001b[0m",
      "\u001b[0;31mTypeError\u001b[0m: object() takes no parameters"
     ]
    }
   ],
   "source": [
    "autoencoder = AdditiveGaussianAutoencoder(n_input = 784,n_hidden=200)"
   ]
  },
  {
   "cell_type": "code",
   "execution_count": null,
   "metadata": {
    "collapsed": true
   },
   "outputs": [],
   "source": []
  }
 ],
 "metadata": {
  "kernelspec": {
   "display_name": "Python 3",
   "language": "python",
   "name": "python3"
  },
  "language_info": {
   "codemirror_mode": {
    "name": "ipython",
    "version": 3
   },
   "file_extension": ".py",
   "mimetype": "text/x-python",
   "name": "python",
   "nbconvert_exporter": "python",
   "pygments_lexer": "ipython3",
   "version": "3.6.1"
  }
 },
 "nbformat": 4,
 "nbformat_minor": 2
}
